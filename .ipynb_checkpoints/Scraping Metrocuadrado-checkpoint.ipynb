{
 "cells": [
  {
   "cell_type": "markdown",
   "id": "acceptable-drink",
   "metadata": {},
   "source": [
    "# Scraping MetroCuadrado\n",
    " Esta aplicación permitirá extraer información publica de la página \"Metrocuadrado\"\n",
    "***\n",
    "**Código**\n",
    "\n",
    "En principio importamos la librería urllib en vez de `requests` porque nos permite autenticarnos como un usuario (ver `req = Request(url, {...}`). Todavía no se que significa esta autenticación pero nos permite avanzar para tomar la información (en [este link](https://medium.com/@raiyanquaium/how-to-web-scrape-using-beautiful-soup-in-python-without-running-into-http-error-403-554875e5abed#:~:text=request%20library%20to%20fetch%20the,request%20despite%20understanding%20the%20response.) está una explicación y la solución que repliqué).\n",
    "\n",
    "Aunque la librería `requests` suele ser utilizada para este tipo de aplicaciones, en nuestro caso, dado que la página parece tener algunas protecciones contra bots, esta librería llevaba a un error 403 forbidden."
   ]
  },
  {
   "cell_type": "code",
   "execution_count": 12,
   "id": "serial-disability",
   "metadata": {},
   "outputs": [],
   "source": [
    "from urllib.request import Request, urlopen\n",
    "from bs4 import BeautifulSoup"
   ]
  },
  {
   "cell_type": "code",
   "execution_count": 3,
   "id": "running-auckland",
   "metadata": {},
   "outputs": [],
   "source": [
    "url = 'https://www.metrocuadrado.com/casas/arriendo/medellin/'"
   ]
  },
  {
   "cell_type": "code",
   "execution_count": 4,
   "id": "outstanding-curtis",
   "metadata": {},
   "outputs": [],
   "source": [
    "req = Request(url, headers={'User-Agent': 'Mozilla/5.0'})"
   ]
  },
  {
   "cell_type": "code",
   "execution_count": 5,
   "id": "racial-rehabilitation",
   "metadata": {},
   "outputs": [],
   "source": [
    "webpage = urlopen(req).read()"
   ]
  },
  {
   "cell_type": "code",
   "execution_count": 13,
   "id": "ethical-flood",
   "metadata": {},
   "outputs": [],
   "source": [
    "soup = BeautifulSoup(webpage, 'html.parser')"
   ]
  },
  {
   "cell_type": "code",
   "execution_count": 20,
   "id": "upper-mercury",
   "metadata": {},
   "outputs": [],
   "source": [
    "cards = soup.find_all('div', class_='card-header')\n",
    "for card in cards:\n",
    "    print(card)"
   ]
  },
  {
   "cell_type": "markdown",
   "id": "confident-spread",
   "metadata": {},
   "source": [
    "En este punto encontramos un problema: **Metrocuadrado es un sitio web dinámico**. Esto implica que, cómo su contenido no está generado por código HTML sino por JavaScript, `BeautifulSoup` no nos será util y deberemos simular el comportamiento de un humano usando **Selenium**."
   ]
  }
 ],
 "metadata": {
  "kernelspec": {
   "display_name": "Python 3",
   "language": "python",
   "name": "python3"
  },
  "language_info": {
   "codemirror_mode": {
    "name": "ipython",
    "version": 3
   },
   "file_extension": ".py",
   "mimetype": "text/x-python",
   "name": "python",
   "nbconvert_exporter": "python",
   "pygments_lexer": "ipython3",
   "version": "3.8.7"
  }
 },
 "nbformat": 4,
 "nbformat_minor": 5
}
