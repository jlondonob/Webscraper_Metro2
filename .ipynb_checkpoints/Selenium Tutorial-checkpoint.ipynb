{
 "cells": [
  {
   "cell_type": "code",
   "execution_count": 1,
   "id": "material-angle",
   "metadata": {},
   "outputs": [],
   "source": [
    "from selenium import webdriver"
   ]
  },
  {
   "cell_type": "code",
   "execution_count": 2,
   "id": "regulated-cable",
   "metadata": {},
   "outputs": [
    {
     "name": "stdout",
     "output_type": "stream",
     "text": [
      "Help on package selenium.webdriver in selenium:\n",
      "\n",
      "NAME\n",
      "    selenium.webdriver\n",
      "\n",
      "DESCRIPTION\n",
      "    # Licensed to the Software Freedom Conservancy (SFC) under one\n",
      "    # or more contributor license agreements.  See the NOTICE file\n",
      "    # distributed with this work for additional information\n",
      "    # regarding copyright ownership.  The SFC licenses this file\n",
      "    # to you under the Apache License, Version 2.0 (the\n",
      "    # \"License\"); you may not use this file except in compliance\n",
      "    # with the License.  You may obtain a copy of the License at\n",
      "    #\n",
      "    #   http://www.apache.org/licenses/LICENSE-2.0\n",
      "    #\n",
      "    # Unless required by applicable law or agreed to in writing,\n",
      "    # software distributed under the License is distributed on an\n",
      "    # \"AS IS\" BASIS, WITHOUT WARRANTIES OR CONDITIONS OF ANY\n",
      "    # KIND, either express or implied.  See the License for the\n",
      "    # specific language governing permissions and limitations\n",
      "    # under the License.\n",
      "\n",
      "PACKAGE CONTENTS\n",
      "    android (package)\n",
      "    blackberry (package)\n",
      "    chrome (package)\n",
      "    common (package)\n",
      "    edge (package)\n",
      "    firefox (package)\n",
      "    ie (package)\n",
      "    opera (package)\n",
      "    phantomjs (package)\n",
      "    remote (package)\n",
      "    safari (package)\n",
      "    support (package)\n",
      "    webkitgtk (package)\n",
      "\n",
      "VERSION\n",
      "    3.14.1\n",
      "\n",
      "FILE\n",
      "    /Library/Frameworks/Python.framework/Versions/3.8/lib/python3.8/site-packages/selenium/webdriver/__init__.py\n",
      "\n",
      "\n"
     ]
    }
   ],
   "source": [
    "help(webdriver)"
   ]
  },
  {
   "cell_type": "markdown",
   "id": "statutory-narrow",
   "metadata": {},
   "source": [
    "From the package `selenium` we import the package `webdriver`, which in turn has several packages including `android`, `blackberry`, `chrome`,..."
   ]
  },
  {
   "cell_type": "code",
   "execution_count": 3,
   "id": "informative-puppy",
   "metadata": {},
   "outputs": [],
   "source": [
    "from selenium.webdriver import chrome"
   ]
  },
  {
   "cell_type": "code",
   "execution_count": 4,
   "id": "renewable-parker",
   "metadata": {},
   "outputs": [
    {
     "name": "stdout",
     "output_type": "stream",
     "text": [
      "Help on package selenium.webdriver.chrome in selenium.webdriver:\n",
      "\n",
      "NAME\n",
      "    selenium.webdriver.chrome\n",
      "\n",
      "DESCRIPTION\n",
      "    # Licensed to the Software Freedom Conservancy (SFC) under one\n",
      "    # or more contributor license agreements.  See the NOTICE file\n",
      "    # distributed with this work for additional information\n",
      "    # regarding copyright ownership.  The SFC licenses this file\n",
      "    # to you under the Apache License, Version 2.0 (the\n",
      "    # \"License\"); you may not use this file except in compliance\n",
      "    # with the License.  You may obtain a copy of the License at\n",
      "    #\n",
      "    #   http://www.apache.org/licenses/LICENSE-2.0\n",
      "    #\n",
      "    # Unless required by applicable law or agreed to in writing,\n",
      "    # software distributed under the License is distributed on an\n",
      "    # \"AS IS\" BASIS, WITHOUT WARRANTIES OR CONDITIONS OF ANY\n",
      "    # KIND, either express or implied.  See the License for the\n",
      "    # specific language governing permissions and limitations\n",
      "    # under the License.\n",
      "\n",
      "PACKAGE CONTENTS\n",
      "    options\n",
      "    remote_connection\n",
      "    service\n",
      "    webdriver\n",
      "\n",
      "FILE\n",
      "    /Library/Frameworks/Python.framework/Versions/3.8/lib/python3.8/site-packages/selenium/webdriver/chrome/__init__.py\n",
      "\n",
      "\n"
     ]
    }
   ],
   "source": [
    "help(chrome)"
   ]
  },
  {
   "cell_type": "markdown",
   "id": "headed-choir",
   "metadata": {},
   "source": [
    "As it is becoming clear, the package has many branches. Now we will proceed to install all the necessary tools."
   ]
  },
  {
   "cell_type": "code",
   "execution_count": 5,
   "id": "standard-bottom",
   "metadata": {},
   "outputs": [],
   "source": [
    "from selenium import webdriver\n",
    "from selenium.webdriver.chrome.options import Options\n",
    "from selenium.webdriver.common.by import By\n",
    "from selenium.webdriver.common.keys import Keys\n",
    "from selenium.webdriver.support.ui import WebDriverWait\n",
    "from selenium.webdriver.support.expected_conditions import presence_of_element_located\n",
    "import time\n",
    "import sys"
   ]
  },
  {
   "cell_type": "markdown",
   "id": "designed-interim",
   "metadata": {},
   "source": [
    "For the nex step make sure to use an **absolute path** to the web browser driver."
   ]
  },
  {
   "cell_type": "code",
   "execution_count": 6,
   "id": "searching-introduction",
   "metadata": {},
   "outputs": [],
   "source": [
    "url = 'https://www.brainyquote.com/'\n",
    "chrome_driver_path = '/Users/puchu/Desktop/WebScraper_Metro2/chromedriver'"
   ]
  },
  {
   "cell_type": "code",
   "execution_count": 8,
   "id": "timely-deposit",
   "metadata": {},
   "outputs": [],
   "source": [
    "chrome_options = Options()\n",
    "chrome_options.add_argument('--headless')\n",
    "\n",
    "webdriver = webdriver.Chrome(\n",
    "  executable_path=chrome_driver_path, options=chrome_options\n",
    ")"
   ]
  },
  {
   "cell_type": "markdown",
   "id": "parental-quebec",
   "metadata": {},
   "source": [
    "The **--headless option** indicates that the browser will run on the background and will display any results. If you want to see the difference between a headless and a normal browser remove the `options=chrome_options` argument from the object `webdriver`."
   ]
  },
  {
   "cell_type": "code",
   "execution_count": 11,
   "id": "british-banks",
   "metadata": {},
   "outputs": [
    {
     "name": "stdout",
     "output_type": "stream",
     "text": [
      "-f\n"
     ]
    }
   ],
   "source": [
    "search_query = \"life\"\n",
    "if (len(sys.argv) >= 2):\n",
    "    search_query = sys.argv[1]\n",
    "    print(search_query)"
   ]
  }
 ],
 "metadata": {
  "kernelspec": {
   "display_name": "Python 3",
   "language": "python",
   "name": "python3"
  },
  "language_info": {
   "codemirror_mode": {
    "name": "ipython",
    "version": 3
   },
   "file_extension": ".py",
   "mimetype": "text/x-python",
   "name": "python",
   "nbconvert_exporter": "python",
   "pygments_lexer": "ipython3",
   "version": "3.8.7"
  }
 },
 "nbformat": 4,
 "nbformat_minor": 5
}
