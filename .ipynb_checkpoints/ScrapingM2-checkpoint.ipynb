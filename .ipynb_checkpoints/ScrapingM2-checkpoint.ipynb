{
 "cells": [
  {
   "cell_type": "markdown",
   "id": "driven-worker",
   "metadata": {},
   "source": [
    "# Scraping Metrocuadrado\n",
    "Import necesary packages\n",
    "```python\n",
    "import requests\n",
    "from bs4 import BeautifulSoup\n",
    "```\n",
    "The `import` command is used to import **packages** or **'modules'**. It behaves much like R's `library()` function.\n",
    "\n",
    "In the case of Beautiful Soup, the name of the module is `bs4` and we only want to import the function `BeautifulSoup`"
   ]
  },
  {
   "cell_type": "code",
   "execution_count": 1,
   "id": "ranging-estonia",
   "metadata": {},
   "outputs": [],
   "source": [
    "import requests"
   ]
  },
  {
   "cell_type": "code",
   "execution_count": 2,
   "id": "governmental-blink",
   "metadata": {},
   "outputs": [],
   "source": [
    "from bs4 import BeautifulSoup"
   ]
  },
  {
   "cell_type": "code",
   "execution_count": 3,
   "id": "academic-bradley",
   "metadata": {},
   "outputs": [],
   "source": [
    "URL = \"https://www.metrocuadrado.com/casas/arriendo/medellin/\""
   ]
  },
  {
   "cell_type": "code",
   "execution_count": 4,
   "id": "sealed-partner",
   "metadata": {},
   "outputs": [],
   "source": [
    "page = requests.get(URL)"
   ]
  },
  {
   "cell_type": "markdown",
   "id": "parental-exhibition",
   "metadata": {},
   "source": [
    "Now that we have extracted the HTML code, we create an object called `soup` in which this information will be stored."
   ]
  },
  {
   "cell_type": "code",
   "execution_count": 5,
   "id": "proper-reader",
   "metadata": {},
   "outputs": [],
   "source": [
    "soup = BeautifulSoup(page.content, 'html.parser')"
   ]
  },
  {
   "cell_type": "code",
   "execution_count": 10,
   "id": "electoral-barrel",
   "metadata": {},
   "outputs": [],
   "source": [
    "cards = soup.find_all(id='btnSearch')"
   ]
  },
  {
   "cell_type": "code",
   "execution_count": 12,
   "id": "stuffed-cholesterol",
   "metadata": {},
   "outputs": [
    {
     "name": "stdout",
     "output_type": "stream",
     "text": [
      "<Response [403]>\n"
     ]
    }
   ],
   "source": [
    "print(page)"
   ]
  },
  {
   "cell_type": "code",
   "execution_count": null,
   "id": "local-minimum",
   "metadata": {},
   "outputs": [],
   "source": []
  }
 ],
 "metadata": {
  "kernelspec": {
   "display_name": "Python 3",
   "language": "python",
   "name": "python3"
  },
  "language_info": {
   "codemirror_mode": {
    "name": "ipython",
    "version": 3
   },
   "file_extension": ".py",
   "mimetype": "text/x-python",
   "name": "python",
   "nbconvert_exporter": "python",
   "pygments_lexer": "ipython3",
   "version": "3.8.7"
  }
 },
 "nbformat": 4,
 "nbformat_minor": 5
}
