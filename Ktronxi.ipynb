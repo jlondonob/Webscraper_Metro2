{
 "cells": [
  {
   "cell_type": "code",
   "execution_count": 2,
   "id": "acute-commerce",
   "metadata": {},
   "outputs": [],
   "source": [
    "import requests\n",
    "from bs4 import BeautifulSoup"
   ]
  },
  {
   "cell_type": "code",
   "execution_count": 3,
   "id": "loose-landing",
   "metadata": {},
   "outputs": [],
   "source": [
    "url = 'https://www.ktronix.com/computadores-tablets/computadores-portatiles/portatiles-tradicionales/c/BI_0050_KTRON'"
   ]
  },
  {
   "cell_type": "code",
   "execution_count": 5,
   "id": "naval-checkout",
   "metadata": {},
   "outputs": [],
   "source": [
    "page = requests.get(url)"
   ]
  },
  {
   "cell_type": "code",
   "execution_count": 6,
   "id": "closing-transportation",
   "metadata": {},
   "outputs": [],
   "source": [
    "soup = BeautifulSoup(page.content, 'html.parser')"
   ]
  },
  {
   "cell_type": "code",
   "execution_count": 15,
   "id": "commercial-ghana",
   "metadata": {},
   "outputs": [],
   "source": [
    "names = soup.find_all('h2', class_= 'product__information--name')"
   ]
  },
  {
   "cell_type": "code",
   "execution_count": 16,
   "id": "juvenile-seminar",
   "metadata": {
    "collapsed": true
   },
   "outputs": [
    {
     "name": "stdout",
     "output_type": "stream",
     "text": [
      "<h2 class=\"product__information--name\">\n",
      "<a class=\"js-product-click-datalayer\" data-id=\"190198462510\" href=\"/macbook-air-133-pulgadas-mqd32e-a-intel-core-i5-8-gb-ram-disco-estado-solido-128gb-gris/p/190198462510\">MacBook Air 13,3\" Pulgadas MQD32E/A   Intel Core I5- 8 GB ram- Disco Estado Solido 128GB-  Gris</a>\n",
      "</h2>\n",
      "\n",
      "<h2 class=\"product__information--name\">\n",
      "<a class=\"js-product-click-datalayer\" data-id=\"4718017846417\" href=\"/computador-portatil-asus-vivobook-14-pulgadas-x413fa-ek808t-procesador-intel-core-i7-8gb-ram-disco-estado-solido-256-gb-negro/p/4718017846417\">Computador Portátil ASUS VivoBook 14\" Pulgadas X413FA-EK808T Procesador Intel Core i7 - 8GB RAM - Disco Estado Sólido 256 GB - Negro</a>\n",
      "</h2>\n",
      "\n",
      "<h2 class=\"product__information--name\">\n",
      "<a class=\"js-product-click-datalayer\" data-id=\"4710886056591\" href=\"/computador-portatil-acer-156-pulgadas-a315-57g-53pw-intel-core-i5-ram-8gb-disco-solido-256gb-negro/p/4710886056591\">Computador Portátil ACER 15.6\" Pulgadas A315-57G-53PW Intel Core i5  RAM 8GB Disco Solido 256GB - Negro</a>\n",
      "</h2>\n",
      "\n",
      "<h2 class=\"product__information--name\">\n",
      "<a class=\"js-product-click-datalayer\" data-id=\"4718017966887\" href=\"/computador-all-in-one-asus-vivo-aio-215-pulgadas-v222fak-ba229t-intel-core-i3-4gb-ram-disco-duro-1tb-negro/p/4718017966887\">Computador All In One ASUS Vivo AIO 21,5\" Pulgadas V222FAK-BA229T Intel Core i3 - 4GB RAM - Disco Duro 1TB - Negro</a>\n",
      "</h2>\n",
      "\n",
      "<h2 class=\"product__information--name\">\n",
      "<a class=\"js-product-click-datalayer\" data-id=\"4718017846400\" href=\"/computador-portatil-asus-vivobook-156-pulgadas-x512jf-br087t-procesador-intel-core-i5-12gb-ram-disco-duro-1-tb-azul/p/4718017846400\">Computador Portátil ASUS VivoBook 15,6\" Pulgadas X512JF-BR087T Procesador Intel Core i5 - 12GB RAM - Disco Duro 1 TB - Azul</a>\n",
      "</h2>\n",
      "\n",
      "<h2 class=\"product__information--name\">\n",
      "<a class=\"js-product-click-datalayer\" data-id=\"4718017966894\" href=\"/computador-all-in-one-asus-vivo-aio-215-pulgadas-v222fak-ba241t-intel-pentium-gold-4gb-ram-disco-duro-1tb-negro/p/4718017966894\">Computador All In One ASUS Vivo AIO 21,5\" Pulgadas V222FAK-BA241T Intel Pentium Gold - 4GB RAM - Disco Duro 1TB - Negro</a>\n",
      "</h2>\n",
      "\n",
      "<h2 class=\"product__information--name\">\n",
      "<a class=\"js-product-click-datalayer\" data-id=\"4718017909273\" href=\"/computador-portatil-asus-zenbook-13-133-pulgadas-ux325ea-eg124t-procesador-intel-core-i7-16gb-ram-disco-estado-solido-512-gb-gris/p/4718017909273\">Computador Portátil ASUS ZenBook 13 13,3\" Pulgadas UX325EA-EG124T Procesador Intel Core i7 - 16GB RAM - Disco Estado Sólido 512 GB - Gris</a>\n",
      "</h2>\n",
      "\n",
      "<h2 class=\"product__information--name\">\n",
      "<a class=\"js-product-click-datalayer\" data-id=\"4710886062417\" href=\"/computador-portatil-acer-156-pulgadas-a315-42-r43b-amd-ryzen-7-ram-8gb-disco-solido-512gb-negro/p/4710886062417\">Computador Portátil ACER 15.6\" Pulgadas A315-42-R43B AMD Ryzen 7 Ram 8GB Disco Solido 512GB - Negro</a>\n",
      "</h2>\n",
      "\n",
      "<h2 class=\"product__information--name\">\n",
      "<a class=\"js-product-click-datalayer\" data-id=\"194850986123\" href=\"/computador-portatil-hp-15-pulgadas-15-gw0013la-amd-ryzen-7-8-gb-ram-disco-estado-solido-512gb-negro/p/194850986123\">Computador Portátil HP 15\" Pulgadas 15-gw0013la AMD Ryzen 7- 8 GB RAM- Disco Estado Sólido 512GB-Negro</a>\n",
      "</h2>\n",
      "\n",
      "<h2 class=\"product__information--name\">\n",
      "<a class=\"js-product-click-datalayer\" data-id=\"4718017639200\" href=\"/computador-portatil-asus-vivobook-s-156-pulgadas-s532fl-bn185t-procesador-intel-core-i7-ram-16gb-32gb-intel-optane-disco-estado-solido-512-gb-plateado/p/4718017639200\">Computador Portátil ASUS VivoBook S 15,6\" Pulgadas S532FL-BN185T Procesador Intel Core i7 RAM 16GB + 32GB Intel Optane Disco Estado Sólido 512 GB - Plateado</a>\n",
      "</h2>\n",
      "\n",
      "<h2 class=\"product__information--name\">\n",
      "<a class=\"js-product-click-datalayer\" data-id=\"194850956096\" href=\"/computador-convertible-2-en-1-hp-14-pulgadas-14-dh0030la-intel-core-i3-8-gb-ram-disco-estado-solido-256gb-azul/p/194850956096\">Computador Convertible 2 en 1 HP 14\" Pulgadas 14-dh0030la Intel Core i3- 8 GB RAM- Disco Estado Sólido 256GB-Azul</a>\n",
      "</h2>\n",
      "\n",
      "<h2 class=\"product__information--name\">\n",
      "<a class=\"js-product-click-datalayer\" data-id=\"4718017639194\" href=\"/computador-portatil-asus-vivobook-s-156-pulgadas-s532fl-bn181t-procesador-intel-core-i7-ram-16gb-32gb-intel-optane-disco-estado-solido-512-gb-verde/p/4718017639194\">Computador Portátil ASUS VivoBook S 15,6\" Pulgadas S532FL-BN181T Procesador Intel Core i7 RAM 16GB + 32GB Intel Optane Disco Estado Sólido 512 GB - Verde</a>\n",
      "</h2>\n",
      "\n",
      "<h2 class=\"product__information--name\">\n",
      "<a class=\"js-product-click-datalayer\" data-id=\"194252167205\" href=\"/macbook-pro-13pulgadas-mydc2e-a-chip-m1-ram-8gb-disco-estado-solido-512gb-plata/p/194252167205\">MacBook Pro de 13\" pulgadas MYDC2E/A Chip M1 RAM 8GB Disco Estado Solido 512GB Plata</a>\n",
      "</h2>\n",
      "\n",
      "<h2 class=\"product__information--name\">\n",
      "<a class=\"js-product-click-datalayer\" data-id=\"7707467664457\" href=\"/computador-huawei-139-pulgadas-matebook-x-pro-1tb-ssd-16gb-mouse-inalambrico-router-docking/p/7707467664457\">Computador HUAWEI 13.9 \" Pulgadas Matebook X Pro 1TB SSD + 16GB + Mouse Inalambrico + Router + Docking</a>\n",
      "</h2>\n",
      "\n",
      "<h2 class=\"product__information--name\">\n",
      "<a class=\"js-product-click-datalayer\" data-id=\"194441149678\" href=\"/computador-convertible-2en1-hp-14-pulgada-dh1010la-intel-core-i5-8-gb-ram-disco-estado-solido-256-gb-dorado/p/194441149678\">Computador Convertible 2en1 HP 14\" Pulgada -dh1010la Intel Core I5- 8 GB Ram- Disco Estado Sólido 256 GB Dorado</a>\n",
      "</h2>\n",
      "\n",
      "<h2 class=\"product__information--name\">\n",
      "<a class=\"js-product-click-datalayer\" data-id=\"195042402704\" href=\"/portatil-lenovo-yoga-slim-7-14-pulgadas-ryzen-5-8gb-ram-disco-solido-512gb-morado/p/195042402704\">Portátil LENOVO Yoga Slim 7 14\" Pulgadas Ryzen 5 8GB RAM Disco Sólido 512GB Morado</a>\n",
      "</h2>\n",
      "\n",
      "<h2 class=\"product__information--name\">\n",
      "<a class=\"js-product-click-datalayer\" data-id=\"195348729079\" href=\"/computador-portatil-lenovo-14-pulgadas-yoga-slim-7-intel-core-i7-8gb-ram-disco-solido-256gb-gris/p/195348729079\">Computador Portátil LENOVO 14\" Pulgadas Yoga Slim 7 Intel Core i7 - 8GB Ram - Disco Solido 256GB - Gris</a>\n",
      "</h2>\n",
      "\n",
      "<h2 class=\"product__information--name\">\n",
      "<a class=\"js-product-click-datalayer\" data-id=\"195161165580\" href=\"/computador-portatil-hp-156-pulgadas-15-dw1073la-intel-core-i7-8-gb-ram-disco-estado-solido-256gb-plata/p/195161165580\">Computador Portatil HP 15,6\" Pulgadas 15-dw1073la Intel Core i7- 8 GB RAM- Disco Estado Sólido 256GB-Plata</a>\n",
      "</h2>\n",
      "\n",
      "<h2 class=\"product__information--name\">\n",
      "<a class=\"js-product-click-datalayer\" data-id=\"195235841525\" href=\"/computador-portatil-lenovo-14-pulgadas-yoga-slim-7-intel-core-i5-8gb-ram-disco-solido-256gb-morado/p/195235841525\">Computador Portátil LENOVO 14\" Pulgadas Yoga Slim 7 Intel Core i5 - 8GB Ram - Disco Solido 256GB - Morado</a>\n",
      "</h2>\n",
      "\n",
      "<h2 class=\"product__information--name\">\n",
      "<a class=\"js-product-click-datalayer\" data-id=\"4718017846448\" href=\"/computador-portatil-asus-zenbook-13-133-pulgadas-ux325ja-eg102ts-procesador-intel-core-i7-ram-16gb-32gb-intel-optane-disco-estado-solido-512-gb-gris/p/4718017846448\">Computador Portátil ASUS ZenBook 13 13,3\" Pulgadas UX325JA-EG102TS Procesador Intel Core i7 RAM 16GB + 32GB Intel Optane Disco Estado Sólido 512 GB - Gris</a>\n",
      "</h2>\n",
      "\n",
      "<h2 class=\"product__information--name\">\n",
      "<a class=\"js-product-click-datalayer\" data-id=\"4710886056362\" href=\"/computador-portatil-acer-135-pulgadas-sf313-52-505k-intel-core-i5-10ma-ram-8gb-disco-solido-512gb-plateado/p/4710886056362\">Computador Portátil ACER 13.5\" Pulgadas SF313-52-505K Intel Core i5 10ma RAM 8GB Disco Solido 512GB - Plateado</a>\n",
      "</h2>\n",
      "\n",
      "<h2 class=\"product__information--name\">\n",
      "<a class=\"js-product-click-datalayer\" data-id=\"195161158971\" href=\"/computador-portatil-hp-14-pulgadas-14-cf2060la-intel-core-i3-4-gb-ram-disco-estado-solido-512gb-negro/p/195161158971\">Computador Portatil HP 14\" Pulgadas 14-cf2060la Intel Core i3- 4 GB RAM- Disco Estado Sólido 512GB-Negro</a>\n",
      "</h2>\n",
      "\n",
      "<h2 class=\"product__information--name\">\n",
      "<a class=\"js-product-click-datalayer\" data-id=\"195161402869\" href=\"/convertible-2-en-1-hp-envy-156-pulgadas-15-ed1013la-intel-core-i5-8-gb-ram-disco-estado-solido-256gb-con-16gb-intel-optane-negro-madera/p/195161402869\">Convertible 2 en 1 HP Envy 15,6\" Pulgadas 15-ed1013la Intel Core i5- 8 GB RAM- Disco Estado Sólido 256GB con 16GB Intel Optane-Negro-Madera</a>\n",
      "</h2>\n",
      "\n",
      "<h2 class=\"product__information--name\">\n",
      "<a class=\"js-product-click-datalayer\" data-id=\"193905116027\" href=\"/computador-portatil-hp-14-pulgadas-hp-240g7-intel-core-i5-4-gb-ram-disco-duro-1tb-negro/p/193905116027\">Computador Portátil HP 14\" Pulgadas HP-240G7 Intel Core i5- 4 GB RAM- Disco Duro 1TB-Negro</a>\n",
      "</h2>\n",
      "\n",
      "<h2 class=\"product__information--name\">\n",
      "<a class=\"js-product-click-datalayer\" data-id=\"195235495988\" href=\"/computador-portatil-thinkpad-14-pulgadas-e490-intel-core-i3-8gb-ram-disco-duro-1tb-negro/p/195235495988\">Computador Portátil ThinkPad 14\" Pulgadas E490 Intel Core i3 - 8GB Ram Disco Duro 1TB Negro</a>\n",
      "</h2>\n",
      "\n"
     ]
    }
   ],
   "source": [
    "for name in names:\n",
    "    print(name, end='\\n'*2)"
   ]
  },
  {
   "cell_type": "code",
   "execution_count": 19,
   "id": "meaningful-exploration",
   "metadata": {
    "collapsed": true
   },
   "outputs": [
    {
     "name": "stdout",
     "output_type": "stream",
     "text": [
      "MacBook Air 13,3\" Pulgadas MQD32E/A   Intel Core I5- 8 GB ram- Disco Estado Solido 128GB-  Gris\n",
      "\n",
      "Computador Portátil ASUS VivoBook 14\" Pulgadas X413FA-EK808T Procesador Intel Core i7 - 8GB RAM - Disco Estado Sólido 256 GB - Negro\n",
      "\n",
      "Computador Portátil ACER 15.6\" Pulgadas A315-57G-53PW Intel Core i5  RAM 8GB Disco Solido 256GB - Negro\n",
      "\n",
      "Computador All In One ASUS Vivo AIO 21,5\" Pulgadas V222FAK-BA229T Intel Core i3 - 4GB RAM - Disco Duro 1TB - Negro\n",
      "\n",
      "Computador Portátil ASUS VivoBook 15,6\" Pulgadas X512JF-BR087T Procesador Intel Core i5 - 12GB RAM - Disco Duro 1 TB - Azul\n",
      "\n",
      "Computador All In One ASUS Vivo AIO 21,5\" Pulgadas V222FAK-BA241T Intel Pentium Gold - 4GB RAM - Disco Duro 1TB - Negro\n",
      "\n",
      "Computador Portátil ASUS ZenBook 13 13,3\" Pulgadas UX325EA-EG124T Procesador Intel Core i7 - 16GB RAM - Disco Estado Sólido 512 GB - Gris\n",
      "\n",
      "Computador Portátil ACER 15.6\" Pulgadas A315-42-R43B AMD Ryzen 7 Ram 8GB Disco Solido 512GB - Negro\n",
      "\n",
      "Computador Portátil HP 15\" Pulgadas 15-gw0013la AMD Ryzen 7- 8 GB RAM- Disco Estado Sólido 512GB-Negro\n",
      "\n",
      "Computador Portátil ASUS VivoBook S 15,6\" Pulgadas S532FL-BN185T Procesador Intel Core i7 RAM 16GB + 32GB Intel Optane Disco Estado Sólido 512 GB - Plateado\n",
      "\n",
      "Computador Convertible 2 en 1 HP 14\" Pulgadas 14-dh0030la Intel Core i3- 8 GB RAM- Disco Estado Sólido 256GB-Azul\n",
      "\n",
      "Computador Portátil ASUS VivoBook S 15,6\" Pulgadas S532FL-BN181T Procesador Intel Core i7 RAM 16GB + 32GB Intel Optane Disco Estado Sólido 512 GB - Verde\n",
      "\n",
      "MacBook Pro de 13\" pulgadas MYDC2E/A Chip M1 RAM 8GB Disco Estado Solido 512GB Plata\n",
      "\n",
      "Computador HUAWEI 13.9 \" Pulgadas Matebook X Pro 1TB SSD + 16GB + Mouse Inalambrico + Router + Docking\n",
      "\n",
      "Computador Convertible 2en1 HP 14\" Pulgada -dh1010la Intel Core I5- 8 GB Ram- Disco Estado Sólido 256 GB Dorado\n",
      "\n",
      "Portátil LENOVO Yoga Slim 7 14\" Pulgadas Ryzen 5 8GB RAM Disco Sólido 512GB Morado\n",
      "\n",
      "Computador Portátil LENOVO 14\" Pulgadas Yoga Slim 7 Intel Core i7 - 8GB Ram - Disco Solido 256GB - Gris\n",
      "\n",
      "Computador Portatil HP 15,6\" Pulgadas 15-dw1073la Intel Core i7- 8 GB RAM- Disco Estado Sólido 256GB-Plata\n",
      "\n",
      "Computador Portátil LENOVO 14\" Pulgadas Yoga Slim 7 Intel Core i5 - 8GB Ram - Disco Solido 256GB - Morado\n",
      "\n",
      "Computador Portátil ASUS ZenBook 13 13,3\" Pulgadas UX325JA-EG102TS Procesador Intel Core i7 RAM 16GB + 32GB Intel Optane Disco Estado Sólido 512 GB - Gris\n",
      "\n",
      "Computador Portátil ACER 13.5\" Pulgadas SF313-52-505K Intel Core i5 10ma RAM 8GB Disco Solido 512GB - Plateado\n",
      "\n",
      "Computador Portatil HP 14\" Pulgadas 14-cf2060la Intel Core i3- 4 GB RAM- Disco Estado Sólido 512GB-Negro\n",
      "\n",
      "Convertible 2 en 1 HP Envy 15,6\" Pulgadas 15-ed1013la Intel Core i5- 8 GB RAM- Disco Estado Sólido 256GB con 16GB Intel Optane-Negro-Madera\n",
      "\n",
      "Computador Portátil HP 14\" Pulgadas HP-240G7 Intel Core i5- 4 GB RAM- Disco Duro 1TB-Negro\n",
      "\n",
      "Computador Portátil ThinkPad 14\" Pulgadas E490 Intel Core i3 - 8GB Ram Disco Duro 1TB Negro\n",
      "\n"
     ]
    }
   ],
   "source": [
    "for name in names:\n",
    "    product_name = name.find('a')\n",
    "    print(product_name.text, end='\\n'*2)"
   ]
  },
  {
   "cell_type": "code",
   "execution_count": 25,
   "id": "blank-techno",
   "metadata": {
    "collapsed": true
   },
   "outputs": [
    {
     "name": "stdout",
     "output_type": "stream",
     "text": [
      "/macbook-air-133-pulgadas-mqd32e-a-intel-core-i5-8-gb-ram-disco-estado-solido-128gb-gris/p/190198462510\n",
      "/computador-portatil-asus-vivobook-14-pulgadas-x413fa-ek808t-procesador-intel-core-i7-8gb-ram-disco-estado-solido-256-gb-negro/p/4718017846417\n",
      "/computador-portatil-acer-156-pulgadas-a315-57g-53pw-intel-core-i5-ram-8gb-disco-solido-256gb-negro/p/4710886056591\n",
      "/computador-all-in-one-asus-vivo-aio-215-pulgadas-v222fak-ba229t-intel-core-i3-4gb-ram-disco-duro-1tb-negro/p/4718017966887\n",
      "/computador-portatil-asus-vivobook-156-pulgadas-x512jf-br087t-procesador-intel-core-i5-12gb-ram-disco-duro-1-tb-azul/p/4718017846400\n",
      "/computador-all-in-one-asus-vivo-aio-215-pulgadas-v222fak-ba241t-intel-pentium-gold-4gb-ram-disco-duro-1tb-negro/p/4718017966894\n",
      "/computador-portatil-asus-zenbook-13-133-pulgadas-ux325ea-eg124t-procesador-intel-core-i7-16gb-ram-disco-estado-solido-512-gb-gris/p/4718017909273\n",
      "/computador-portatil-acer-156-pulgadas-a315-42-r43b-amd-ryzen-7-ram-8gb-disco-solido-512gb-negro/p/4710886062417\n",
      "/computador-portatil-hp-15-pulgadas-15-gw0013la-amd-ryzen-7-8-gb-ram-disco-estado-solido-512gb-negro/p/194850986123\n",
      "/computador-portatil-asus-vivobook-s-156-pulgadas-s532fl-bn185t-procesador-intel-core-i7-ram-16gb-32gb-intel-optane-disco-estado-solido-512-gb-plateado/p/4718017639200\n",
      "/computador-convertible-2-en-1-hp-14-pulgadas-14-dh0030la-intel-core-i3-8-gb-ram-disco-estado-solido-256gb-azul/p/194850956096\n",
      "/computador-portatil-asus-vivobook-s-156-pulgadas-s532fl-bn181t-procesador-intel-core-i7-ram-16gb-32gb-intel-optane-disco-estado-solido-512-gb-verde/p/4718017639194\n",
      "/macbook-pro-13pulgadas-mydc2e-a-chip-m1-ram-8gb-disco-estado-solido-512gb-plata/p/194252167205\n",
      "/computador-huawei-139-pulgadas-matebook-x-pro-1tb-ssd-16gb-mouse-inalambrico-router-docking/p/7707467664457\n",
      "/computador-convertible-2en1-hp-14-pulgada-dh1010la-intel-core-i5-8-gb-ram-disco-estado-solido-256-gb-dorado/p/194441149678\n",
      "/portatil-lenovo-yoga-slim-7-14-pulgadas-ryzen-5-8gb-ram-disco-solido-512gb-morado/p/195042402704\n",
      "/computador-portatil-lenovo-14-pulgadas-yoga-slim-7-intel-core-i7-8gb-ram-disco-solido-256gb-gris/p/195348729079\n",
      "/computador-portatil-hp-156-pulgadas-15-dw1073la-intel-core-i7-8-gb-ram-disco-estado-solido-256gb-plata/p/195161165580\n",
      "/computador-portatil-lenovo-14-pulgadas-yoga-slim-7-intel-core-i5-8gb-ram-disco-solido-256gb-morado/p/195235841525\n",
      "/computador-portatil-asus-zenbook-13-133-pulgadas-ux325ja-eg102ts-procesador-intel-core-i7-ram-16gb-32gb-intel-optane-disco-estado-solido-512-gb-gris/p/4718017846448\n",
      "/computador-portatil-acer-135-pulgadas-sf313-52-505k-intel-core-i5-10ma-ram-8gb-disco-solido-512gb-plateado/p/4710886056362\n",
      "/computador-portatil-hp-14-pulgadas-14-cf2060la-intel-core-i3-4-gb-ram-disco-estado-solido-512gb-negro/p/195161158971\n",
      "/convertible-2-en-1-hp-envy-156-pulgadas-15-ed1013la-intel-core-i5-8-gb-ram-disco-estado-solido-256gb-con-16gb-intel-optane-negro-madera/p/195161402869\n",
      "/computador-portatil-hp-14-pulgadas-hp-240g7-intel-core-i5-4-gb-ram-disco-duro-1tb-negro/p/193905116027\n",
      "/computador-portatil-thinkpad-14-pulgadas-e490-intel-core-i3-8gb-ram-disco-duro-1tb-negro/p/195235495988\n"
     ]
    }
   ],
   "source": [
    "for p_link in names:\n",
    "    link = p_link.find('a')['href']\n",
    "    print(link)"
   ]
  }
 ],
 "metadata": {
  "kernelspec": {
   "display_name": "Python 3",
   "language": "python",
   "name": "python3"
  },
  "language_info": {
   "codemirror_mode": {
    "name": "ipython",
    "version": 3
   },
   "file_extension": ".py",
   "mimetype": "text/x-python",
   "name": "python",
   "nbconvert_exporter": "python",
   "pygments_lexer": "ipython3",
   "version": "3.8.7"
  }
 },
 "nbformat": 4,
 "nbformat_minor": 5
}
